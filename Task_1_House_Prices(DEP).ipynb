{
  "nbformat": 4,
  "nbformat_minor": 0,
  "metadata": {
    "colab": {
      "provenance": []
    },
    "kernelspec": {
      "name": "python3",
      "display_name": "Python 3"
    },
    "language_info": {
      "name": "python"
    }
  },
  "cells": [
    {
      "cell_type": "code",
      "execution_count": 2,
      "metadata": {
        "colab": {
          "base_uri": "https://localhost:8080/"
        },
        "id": "08dCoLhaNZ-8",
        "outputId": "deef409d-01c6-4be8-d375-067c148fdfdb"
      },
      "outputs": [
        {
          "output_type": "stream",
          "name": "stdout",
          "text": [
            "   HouseID  Size(sqft)  Number of Bedrooms  Number of Bathrooms  \\\n",
            "0        1        3532                   1                    3   \n",
            "1        2        3407                   4                    1   \n",
            "2        3        2453                   1                    3   \n",
            "3        4        1635                   5                    3   \n",
            "4        5        1563                   5                    1   \n",
            "\n",
            "            Location  Price($)  \n",
            "0      Charlotte, NC     92113  \n",
            "1       New York, NY    338562  \n",
            "2  San Francisco, CA    392880  \n",
            "3     Fort Worth, TX    309067  \n",
            "4     Washington, DC    316706  \n"
          ]
        }
      ],
      "source": [
        "import pandas as pd\n",
        "from sklearn.model_selection import train_test_split\n",
        "from sklearn.linear_model import LinearRegression\n",
        "from sklearn.metrics import mean_squared_error\n",
        "\n",
        "# Load the dataset\n",
        "df = pd.read_csv('houses_dataset_us_locations.csv')\n",
        "\n",
        "# Display the first few rows of the dataset\n",
        "print(df.head())"
      ]
    },
    {
      "cell_type": "code",
      "source": [
        "\n",
        "# Check for missing values\n",
        "print(df.isnull().sum())\n",
        "\n",
        "# Define features and target variable\n",
        "X = df[['Size(sqft)', 'Number of Bedrooms', 'Number of Bathrooms']]\n",
        "y = df['Price($)']\n",
        "\n",
        "# Split the dataset into training and testing sets\n",
        "X_train, X_test, y_train, y_test = train_test_split(X, y, test_size=0.2, random_state=42)\n",
        "\n",
        "# Initialize the linear regression model\n",
        "model = LinearRegression()\n",
        "\n",
        "# Train the model\n",
        "model.fit(X_train, y_train)\n",
        "\n",
        "# Predict on the test set\n",
        "y_pred = model.predict(X_test)\n",
        "\n",
        "# Evaluate the model\n",
        "mse = mean_squared_error(y_test, y_pred)\n",
        "rmse = mse ** 0.5\n",
        "\n",
        "# Print the RMSE\n",
        "print(f'Root Mean Squared Error: {rmse}')\n"
      ],
      "metadata": {
        "id": "8VPgZ4YCNuks",
        "colab": {
          "base_uri": "https://localhost:8080/"
        },
        "outputId": "50fde3b8-0c17-4afa-9670-3b5331f8e5ac"
      },
      "execution_count": 3,
      "outputs": [
        {
          "output_type": "stream",
          "name": "stdout",
          "text": [
            "HouseID                0\n",
            "Size(sqft)             0\n",
            "Number of Bedrooms     0\n",
            "Number of Bathrooms    0\n",
            "Location               0\n",
            "Price($)               0\n",
            "dtype: int64\n",
            "Root Mean Squared Error: 132654.2305544884\n"
          ]
        }
      ]
    },
    {
      "cell_type": "code",
      "source": [],
      "metadata": {
        "id": "3uLyiANdPxB-"
      },
      "execution_count": null,
      "outputs": []
    }
  ]
}